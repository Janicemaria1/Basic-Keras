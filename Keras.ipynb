{
 "cells": [
  {
   "cell_type": "code",
   "execution_count": 3,
   "metadata": {},
   "outputs": [],
   "source": [
    "from keras.datasets import mnist\n",
    "from keras.utils import to_categorical\n",
    "from keras.layers import Dense, Dropout\n",
    "from keras.models import Sequential"
   ]
  },
  {
   "cell_type": "code",
   "execution_count": 4,
   "metadata": {},
   "outputs": [],
   "source": [
    "batch_size=128\n",
    "num_classes=10\n",
    "epochs=20"
   ]
  },
  {
   "cell_type": "code",
   "execution_count": 5,
   "metadata": {},
   "outputs": [
    {
     "name": "stdout",
     "output_type": "stream",
     "text": [
      "Downloading data from https://s3.amazonaws.com/img-datasets/mnist.npz\n",
      "11493376/11490434 [==============================] - 0s 0us/step\n"
     ]
    }
   ],
   "source": [
    "(x_train, y_train), (x_test, y_test) = mnist.load_data()"
   ]
  },
  {
   "cell_type": "markdown",
   "metadata": {},
   "source": [
    "# Data PreProcessing"
   ]
  },
  {
   "cell_type": "code",
   "execution_count": 6,
   "metadata": {},
   "outputs": [],
   "source": [
    "x_train = x_train.reshape(60000,784)\n",
    "x_test = x_test.reshape(10000, 784)\n",
    "x_train = x_train.astype('float32')\n",
    "x_test = x_test.astype('float32')\n",
    "x_train /= 255\n",
    "x_test /= 255\n",
    "\n",
    "y_train = to_categorical(y_train, num_classes)   #one hot encoding the labels if label is 8 then it will be 000\n",
    "y_test = to_categorical(y_test, num_classes)"
   ]
  },
  {
   "cell_type": "markdown",
   "metadata": {},
   "source": [
    "# Defining and compiling model"
   ]
  },
  {
   "cell_type": "code",
   "execution_count": 7,
   "metadata": {},
   "outputs": [
    {
     "name": "stdout",
     "output_type": "stream",
     "text": [
      "WARNING:tensorflow:From /opt/conda/envs/Python36/lib/python3.6/site-packages/tensorflow/python/framework/op_def_library.py:263: colocate_with (from tensorflow.python.framework.ops) is deprecated and will be removed in a future version.\n",
      "Instructions for updating:\n",
      "Colocations handled automatically by placer.\n",
      "WARNING:tensorflow:From /opt/conda/envs/Python36/lib/python3.6/site-packages/keras/backend/tensorflow_backend.py:3445: calling dropout (from tensorflow.python.ops.nn_ops) with keep_prob is deprecated and will be removed in a future version.\n",
      "Instructions for updating:\n",
      "Please use `rate` instead of `keep_prob`. Rate should be set to `rate = 1 - keep_prob`.\n",
      "_________________________________________________________________\n",
      "Layer (type)                 Output Shape              Param #   \n",
      "=================================================================\n",
      "dense_1 (Dense)              (None, 512)               401920    \n",
      "_________________________________________________________________\n",
      "dropout_1 (Dropout)          (None, 512)               0         \n",
      "_________________________________________________________________\n",
      "dense_2 (Dense)              (None, 512)               262656    \n",
      "_________________________________________________________________\n",
      "dropout_2 (Dropout)          (None, 512)               0         \n",
      "_________________________________________________________________\n",
      "dense_3 (Dense)              (None, 10)                5130      \n",
      "=================================================================\n",
      "Total params: 669,706\n",
      "Trainable params: 669,706\n",
      "Non-trainable params: 0\n",
      "_________________________________________________________________\n"
     ]
    }
   ],
   "source": [
    "model = Sequential()\n",
    "model.add(Dense(512, activation='relu', input_shape=(784,))) #input_shape specified only in the first layer\n",
    "model.add(Dropout(0.2))\n",
    "model.add(Dense(512, activation='relu'))\n",
    "model.add(Dropout(0.2))\n",
    "model.add(Dense(num_classes, activation='softmax'))\n",
    "\n",
    "model.summary()\n",
    "\n",
    "model.compile(loss='categorical_crossentropy', optimizer='sgd', metrics=['accuracy'])"
   ]
  },
  {
   "cell_type": "code",
   "execution_count": 8,
   "metadata": {},
   "outputs": [
    {
     "name": "stdout",
     "output_type": "stream",
     "text": [
      "WARNING:tensorflow:From /opt/conda/envs/Python36/lib/python3.6/site-packages/tensorflow/python/ops/math_ops.py:3066: to_int32 (from tensorflow.python.ops.math_ops) is deprecated and will be removed in a future version.\n",
      "Instructions for updating:\n",
      "Use tf.cast instead.\n",
      "Train on 60000 samples, validate on 10000 samples\n",
      "Epoch 1/20\n",
      "60000/60000 [==============================] - 94s 2ms/step - loss: 1.1988 - acc: 0.6918 - val_loss: 0.5336 - val_acc: 0.8720\n",
      "Epoch 2/20\n",
      "60000/60000 [==============================] - 81s 1ms/step - loss: 0.5267 - acc: 0.8515 - val_loss: 0.3735 - val_acc: 0.8973\n",
      "Epoch 3/20\n",
      "60000/60000 [==============================] - 93s 2ms/step - loss: 0.4241 - acc: 0.8759 - val_loss: 0.3221 - val_acc: 0.9100\n",
      "Epoch 4/20\n",
      "60000/60000 [==============================] - 110s 2ms/step - loss: 0.3730 - acc: 0.8916 - val_loss: 0.2918 - val_acc: 0.9173\n",
      "Epoch 5/20\n",
      "60000/60000 [==============================] - 107s 2ms/step - loss: 0.3407 - acc: 0.9014 - val_loss: 0.2717 - val_acc: 0.9222\n",
      "Epoch 6/20\n",
      "60000/60000 [==============================] - 112s 2ms/step - loss: 0.3172 - acc: 0.9077 - val_loss: 0.2536 - val_acc: 0.9265\n",
      "Epoch 7/20\n",
      "60000/60000 [==============================] - 113s 2ms/step - loss: 0.2978 - acc: 0.9138 - val_loss: 0.2395 - val_acc: 0.9304\n",
      "Epoch 8/20\n",
      "60000/60000 [==============================] - 95s 2ms/step - loss: 0.2809 - acc: 0.9183 - val_loss: 0.2262 - val_acc: 0.9353\n",
      "Epoch 9/20\n",
      "60000/60000 [==============================] - 107s 2ms/step - loss: 0.2662 - acc: 0.9225 - val_loss: 0.2170 - val_acc: 0.9367\n",
      "Epoch 10/20\n",
      "60000/60000 [==============================] - 106s 2ms/step - loss: 0.2542 - acc: 0.9261 - val_loss: 0.2052 - val_acc: 0.9397\n",
      "Epoch 11/20\n",
      "60000/60000 [==============================] - 101s 2ms/step - loss: 0.2392 - acc: 0.9311 - val_loss: 0.1967 - val_acc: 0.9416\n",
      "Epoch 12/20\n",
      "60000/60000 [==============================] - 106s 2ms/step - loss: 0.2318 - acc: 0.9334 - val_loss: 0.1901 - val_acc: 0.9447\n",
      "Epoch 13/20\n",
      "60000/60000 [==============================] - 97s 2ms/step - loss: 0.2209 - acc: 0.9362 - val_loss: 0.1820 - val_acc: 0.9467\n",
      "Epoch 14/20\n",
      "60000/60000 [==============================] - 108s 2ms/step - loss: 0.2145 - acc: 0.9376 - val_loss: 0.1763 - val_acc: 0.9476\n",
      "Epoch 15/20\n",
      "60000/60000 [==============================] - 106s 2ms/step - loss: 0.2054 - acc: 0.9402 - val_loss: 0.1693 - val_acc: 0.9499\n",
      "Epoch 16/20\n",
      "60000/60000 [==============================] - 97s 2ms/step - loss: 0.1971 - acc: 0.9433 - val_loss: 0.1637 - val_acc: 0.9517\n",
      "Epoch 17/20\n",
      "60000/60000 [==============================] - 96s 2ms/step - loss: 0.1920 - acc: 0.9443 - val_loss: 0.1581 - val_acc: 0.9530\n",
      "Epoch 18/20\n",
      "60000/60000 [==============================] - 94s 2ms/step - loss: 0.1845 - acc: 0.9463 - val_loss: 0.1535 - val_acc: 0.9538\n",
      "Epoch 19/20\n",
      "60000/60000 [==============================] - 95s 2ms/step - loss: 0.1787 - acc: 0.9482 - val_loss: 0.1488 - val_acc: 0.9560\n",
      "Epoch 20/20\n",
      "60000/60000 [==============================] - 100s 2ms/step - loss: 0.1732 - acc: 0.9486 - val_loss: 0.1450 - val_acc: 0.9566\n",
      "Test loss: 0.14496507450453938\n",
      "Test accuracy: 0.9566\n"
     ]
    }
   ],
   "source": [
    "model.fit(x_train, y_train, batch_size=batch_size, epochs=epochs, validation_data=(x_test, y_test))\n",
    "\n",
    "score = model.evaluate(x_test, y_test, verbose=0)\n",
    "print('Test loss:', score[0])\n",
    "print('Test accuracy:', score[1])"
   ]
  },
  {
   "cell_type": "code",
   "execution_count": null,
   "metadata": {},
   "outputs": [],
   "source": []
  }
 ],
 "metadata": {
  "kernelspec": {
   "display_name": "Python 3.6",
   "language": "python",
   "name": "python3"
  },
  "language_info": {
   "codemirror_mode": {
    "name": "ipython",
    "version": 3
   },
   "file_extension": ".py",
   "mimetype": "text/x-python",
   "name": "python",
   "nbconvert_exporter": "python",
   "pygments_lexer": "ipython3",
   "version": "3.6.9"
  }
 },
 "nbformat": 4,
 "nbformat_minor": 1
}
